{
 "cells": [
  {
   "cell_type": "code",
   "execution_count": 3,
   "metadata": {},
   "outputs": [
    {
     "name": "stdout",
     "output_type": "stream",
     "text": [
      "target string not starts with None\n"
     ]
    }
   ],
   "source": [
    "import re\n",
    "p = input(\"Enter pattern to check:\")\n",
    "matcher = re.match(p, 'ababbaba')\n",
    "if matcher is not None:\n",
    "     print(f\"target string starts with {matcher.group()}\")\n",
    "else:\n",
    "     print(f\"target string not starts with {matcher}\")\n",
    "# for match in matcher:\n",
    "#      print(match.start(), '......', match.group())\n",
    "     \n",
    "# Important Functions of re module:\n",
    "# --------------------------------\n",
    "# match(), fullmatch(), search(), findall(), finditer(), sub(), subn(), split(), compile()\n",
    "# match() function is use to check given pattern present at beginning of the target string or not\n",
    "# if match is available then we will get Match object otherwise we will get None\n",
    "# m.start(), m.end(), m.group()"
   ]
  },
  {
   "cell_type": "code",
   "execution_count": 2,
   "metadata": {},
   "outputs": [
    {
     "name": "stdout",
     "output_type": "stream",
     "text": [
      "Target string starts with aba\n"
     ]
    }
   ],
   "source": [
    "import re\n",
    "\n",
    "def check_pattern(pattern, target_string):\n",
    "    matcher = re.match(pattern, target_string)\n",
    "    if matcher is not None:\n",
    "        return f\"Target string starts with {matcher.group()}\"\n",
    "    else:\n",
    "        return f\"Target string does not start with {pattern}\"\n",
    "\n",
    "def main():\n",
    "    pattern = input(\"Enter pattern to check: \")\n",
    "    target_string = 'ababbaba'\n",
    "    result = check_pattern(pattern, target_string)\n",
    "    print(result)\n",
    "\n",
    "if __name__ == \"__main__\":\n",
    "    main()\n"
   ]
  },
  {
   "cell_type": "markdown",
   "metadata": {},
   "source": [
    "# Match() method\n"
   ]
  },
  {
   "cell_type": "code",
   "execution_count": 2,
   "metadata": {},
   "outputs": [
    {
     "name": "stdout",
     "output_type": "stream",
     "text": [
      "Target string starts with abac\n"
     ]
    }
   ],
   "source": [
    "import re\n",
    "def check_pattern(pattern: str, target: str)->str:\n",
    "     matcher = re.match(pattern, target)\n",
    "     if matcher is not None:\n",
    "          return f\"Target string starts with {matcher.group()}\"\n",
    "     else:\n",
    "          return f\"Target string does not start with {pattern}\"\n",
    "     \n",
    "def main()->str:\n",
    "     pattern = input(\"Enter pattern to check: \")\n",
    "     target = 'abacdefag'\n",
    "     result = check_pattern(pattern, target)\n",
    "     print(result)\n",
    "     \n",
    "if __name__ == \"__main__\":\n",
    "     main()"
   ]
  },
  {
   "cell_type": "markdown",
   "metadata": {},
   "source": [
    "# fullmatch() method\n"
   ]
  },
  {
   "cell_type": "code",
   "execution_count": 4,
   "metadata": {},
   "outputs": [
    {
     "name": "stdout",
     "output_type": "stream",
     "text": [
      "Total target string matched with abcdefgabc\n"
     ]
    }
   ],
   "source": [
    "# we can use fullmatch() function to check whether total target string matched\n",
    "# with given pattern or not. if matched then we will get Match otherwise will give None\n",
    "\n",
    "import re\n",
    "def FullMatched(pattern : str, target_string : str)->str:\n",
    "     matcher = re.fullmatch(pattern, target_string)\n",
    "     if matcher is not None:\n",
    "          return f\"Total target string matched with {matcher.group()}\"\n",
    "     else:\n",
    "          f\"Total target string not matched with {matcher}\"\n",
    "          \n",
    "def main()->str:\n",
    "     pattern = input(\"Enter the string to match: \")\n",
    "     target_string = \"abcdefgabc\"\n",
    "     result = FullMatched(pattern, target_string)\n",
    "     print(result)\n",
    "     \n",
    "if __name__ == \"__main__\":\n",
    "     main()\n",
    "     \n",
    " "
   ]
  },
  {
   "cell_type": "code",
   "execution_count": 8,
   "metadata": {},
   "outputs": [
    {
     "name": "stdout",
     "output_type": "stream",
     "text": [
      "Invalid 10-digit mobile number\n"
     ]
    }
   ],
   "source": [
    "# Matched mobile number\n",
    "import re\n",
    "def Mobile_number_Matcher(num : str, target_pattern: str)->str:\n",
    "     matcher = re.fullmatch(num, target_pattern)\n",
    "     if matcher is not None:\n",
    "          return f\"Valid 10-digit mobile number\"\n",
    "     else:\n",
    "          return f\"Invalid 10-digit mobile number\"\n",
    "     \n",
    "def main()->str:\n",
    "     num = input(\"Enter the mobile number : \")\n",
    "     target_pattern = '[6-9][0-9]{9}'\n",
    "     # passing this argument always pass the target_pattern first\n",
    "     ans = Mobile_number_Matcher(target_pattern, num)\n",
    "     print(ans)\n",
    "     \n",
    "if __name__ == \"__main__\":\n",
    "     main()\n",
    "          "
   ]
  },
  {
   "cell_type": "markdown",
   "metadata": {},
   "source": [
    "# Search() method()"
   ]
  },
  {
   "cell_type": "code",
   "execution_count": 10,
   "metadata": {},
   "outputs": [
    {
     "name": "stdout",
     "output_type": "stream",
     "text": [
      "Match is available at :  4\n"
     ]
    }
   ],
   "source": [
    "# we can use search() function to search given pattern in the target string\n",
    "import re\n",
    "match = re.search('bbb', 'abbabbbabb')\n",
    "if match is not None:\n",
    "     print(\"Match is available at : \", match.start())\n",
    "else:\n",
    "     print(\"Match is not available\")\n"
   ]
  },
  {
   "cell_type": "code",
   "execution_count": 12,
   "metadata": {},
   "outputs": [
    {
     "name": "stdout",
     "output_type": "stream",
     "text": [
      "String pattern found at : 4\n"
     ]
    }
   ],
   "source": [
    "import re\n",
    "def Match_First_occurence(pattern : str , target_pattern : str)->str:\n",
    "     match = re.search(pattern, target_pattern)\n",
    "     if match is not None:\n",
    "          return f\"String pattern found at : {match.start()}\"\n",
    "     else:\n",
    "          return f\"String patter does not found :\"\n",
    "     \n",
    "def main()->str:\n",
    "     pattern = 'bbb'\n",
    "     target_pattern = \"abbabbbabb\"\n",
    "     result = Match_First_occurence(pattern, target_pattern)\n",
    "     print(result)\n",
    "     \n",
    "if __name__ == \"__main__\":\n",
    "     main()"
   ]
  },
  {
   "cell_type": "markdown",
   "metadata": {},
   "source": [
    "# Findall() method()"
   ]
  },
  {
   "cell_type": "code",
   "execution_count": 13,
   "metadata": {},
   "outputs": [
    {
     "name": "stdout",
     "output_type": "stream",
     "text": [
      "['7', '9', '5', '4']\n"
     ]
    }
   ],
   "source": [
    "import re\n",
    "l = re.findall('[0-9]', 'a7b9kz@5kmn4')\n",
    "print(l)"
   ]
  },
  {
   "cell_type": "markdown",
   "metadata": {},
   "source": [
    "# Finditerator() method()"
   ]
  },
  {
   "cell_type": "code",
   "execution_count": 14,
   "metadata": {},
   "outputs": [
    {
     "name": "stdout",
     "output_type": "stream",
     "text": [
      "1.......2.......7\n",
      "3.......4.......9\n",
      "7.......8.......5\n",
      "11.......12.......4\n"
     ]
    }
   ],
   "source": [
    "import re\n",
    "matcher = re.finditer('[0-9]', 'a7b9kz@5kmn4')\n",
    "for match in matcher:\n",
    "     print(f\"{match.start()}.......{match.end()}.......{match.group()}\")\n",
    "     "
   ]
  },
  {
   "cell_type": "markdown",
   "metadata": {},
   "source": [
    "# sub() method()"
   ]
  },
  {
   "cell_type": "code",
   "execution_count": 17,
   "metadata": {},
   "outputs": [
    {
     "name": "stdout",
     "output_type": "stream",
     "text": [
      "a#b#kz@#kmn#\n"
     ]
    }
   ],
   "source": [
    "# sub means substitution or replacement\n",
    "import re\n",
    "matcher = re.sub('[0-9]', '#','a7b9kz@5kmn4')\n",
    "# re.sub(pattern, replacement, targetstring)\n",
    "print(matcher)\n",
    "# for match in matcher:\n",
    "#      print(f\"{match.start()}.......{match.end()}.......{match.group()}\")\n",
    "     "
   ]
  },
  {
   "cell_type": "markdown",
   "metadata": {},
   "source": [
    "# Generate Random number"
   ]
  },
  {
   "cell_type": "code",
   "execution_count": 21,
   "metadata": {},
   "outputs": [
    {
     "name": "stdout",
     "output_type": "stream",
     "text": [
      "Random number is : \n",
      "\n",
      "64\n"
     ]
    }
   ],
   "source": [
    "import random\n",
    "def Generate_Random_Number():\n",
    "     return random.randint(1, 100)\n",
    "def main():\n",
    "     random_number = Generate_Random_Number()\n",
    "     print(\"Random number is : \\n\")\n",
    "     print(random_number)\n",
    "     \n",
    "if __name__ == \"__main__\":\n",
    "     main()\n",
    "\n",
    "     "
   ]
  },
  {
   "cell_type": "code",
   "execution_count": 22,
   "metadata": {},
   "outputs": [
    {
     "name": "stdout",
     "output_type": "stream",
     "text": [
      "Random number is : \n",
      "\n",
      "728\n"
     ]
    }
   ],
   "source": [
    "def Random_Number():\n",
    "     return random.randint(1,1000)\n",
    "\n",
    "def main():\n",
    "     random_variable = Random_Number()\n",
    "     print(\"Random number is : \\n\")\n",
    "     print(random_variable)\n",
    "     \n",
    "if __name__ == \"__main__\":\n",
    "     main()"
   ]
  },
  {
   "cell_type": "markdown",
   "metadata": {},
   "source": [
    "# subn() Method()"
   ]
  },
  {
   "cell_type": "code",
   "execution_count": 23,
   "metadata": {},
   "outputs": [
    {
     "name": "stdout",
     "output_type": "stream",
     "text": [
      "('a#b#kz@#kmn#', 4)\n",
      "The result string: a#b#kz@#kmn#\n",
      "The result replacement : a#b#kz@#kmn#\n"
     ]
    }
   ],
   "source": [
    "# it is exactly same as sub() except that it can also returns the number of replacements.\n",
    "# return type is tuple()\n",
    "# (resultstring, number of replacement)\n",
    "import re\n",
    "s = re.subn('[0-9]', '#', 'a7b9kz@5kmn4')\n",
    "print(s)\n",
    "print('The result string:', s[0])\n",
    "print(\"The result replacement :\", s[0])"
   ]
  },
  {
   "cell_type": "markdown",
   "metadata": {},
   "source": [
    "# split() method()"
   ]
  },
  {
   "cell_type": "code",
   "execution_count": 24,
   "metadata": {},
   "outputs": [
    {
     "name": "stdout",
     "output_type": "stream",
     "text": [
      "['25', '04', '2024']\n",
      "25\n",
      "04\n",
      "2024\n"
     ]
    }
   ],
   "source": [
    "# we can use split() function to split target string according to the pattern\n",
    "import re\n",
    "d = re.split('-', '25-04-2024')\n",
    "print(d)\n",
    "for s in d:\n",
    "     print(s)"
   ]
  },
  {
   "cell_type": "code",
   "execution_count": 28,
   "metadata": {},
   "outputs": [
    {
     "name": "stdout",
     "output_type": "stream",
     "text": [
      "Sunny\n",
      "Bunny\n",
      "Chinny\n",
      "Vinny\n",
      "Pinny\n"
     ]
    }
   ],
   "source": [
    "import re\n",
    "\n",
    "l = re.split('[,-]', 'Sunny-Bunny,Chinny,Vinny-Pinny')\n",
    "\n",
    "for s in l:\n",
    "    print(s)\n"
   ]
  },
  {
   "cell_type": "code",
   "execution_count": 32,
   "metadata": {},
   "outputs": [
    {
     "name": "stdout",
     "output_type": "stream",
     "text": [
      "www\n",
      "flipshope\n",
      "io\n"
     ]
    }
   ],
   "source": [
    "import re\n",
    "\n",
    "list = re.split('\\.', 'www.flipshope.io')\n",
    "# list = re.split('.', 'www.flipshope.io')\n",
    "# list = re.split('[.,]', 'www.flipshope.io')\n",
    "\n",
    "for t in list:\n",
    "     print(t)"
   ]
  },
  {
   "cell_type": "code",
   "execution_count": null,
   "metadata": {},
   "outputs": [],
   "source": []
  }
 ],
 "metadata": {
  "kernelspec": {
   "display_name": "Python 3",
   "language": "python",
   "name": "python3"
  },
  "language_info": {
   "codemirror_mode": {
    "name": "ipython",
    "version": 3
   },
   "file_extension": ".py",
   "mimetype": "text/x-python",
   "name": "python",
   "nbconvert_exporter": "python",
   "pygments_lexer": "ipython3",
   "version": "3.10.8"
  }
 },
 "nbformat": 4,
 "nbformat_minor": 2
}
