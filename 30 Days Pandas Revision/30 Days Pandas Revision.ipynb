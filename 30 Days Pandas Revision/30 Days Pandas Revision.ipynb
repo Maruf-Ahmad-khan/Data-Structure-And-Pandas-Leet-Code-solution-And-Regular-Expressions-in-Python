{
 "cells": [
  {
   "cell_type": "markdown",
   "metadata": {},
   "source": [
    "#  Second Highest Salary"
   ]
  },
  {
   "cell_type": "code",
   "execution_count": 10,
   "metadata": {},
   "outputs": [],
   "source": [
    "import warnings\n",
    "warnings.filterwarnings('ignore')\n",
    "import pandas as pd\n",
    "def Second_Highest_Salary(employee: pd.DataFrame)->pd.DataFrame:\n",
    "     # drop the duplicates\n",
    "     employee.drop_duplicates(subset= ['salary'], inplace= True)\n",
    "     # apply condition\n",
    "     if employee.shape[0] < 2:\n",
    "          return pd.DataFrame([[None]], columns = ['SecondHighestSalary'])\n",
    "     \n",
    "     # sort the values\n",
    "     employee.sort_values(by = 'salary', inplace= True, ascending= False)\n",
    "     # update the salary\n",
    "     employee = employee[['salary']]\n",
    "     # rename the columns\n",
    "     employee.rename(columns= {'salary' : 'SecondHighestSalary'}, inplace= True)\n",
    "     return employee.iloc[1:2]\n",
    "\n",
    "def main()->pd.DataFrame:\n",
    "     employee = {'id':[1,2,3], 'salary':[100,200,300]}\n",
    "     ans = pd.DataFrame(employee)\n",
    "     return ans\n",
    "\n",
    "if __name__ == \"__main__\":\n",
    "     data = main()\n",
    "     result = Second_Highest_Salary(data)"
   ]
  },
  {
   "cell_type": "code",
   "execution_count": 11,
   "metadata": {},
   "outputs": [
    {
     "data": {
      "text/html": [
       "<div>\n",
       "<style scoped>\n",
       "    .dataframe tbody tr th:only-of-type {\n",
       "        vertical-align: middle;\n",
       "    }\n",
       "\n",
       "    .dataframe tbody tr th {\n",
       "        vertical-align: top;\n",
       "    }\n",
       "\n",
       "    .dataframe thead th {\n",
       "        text-align: right;\n",
       "    }\n",
       "</style>\n",
       "<table border=\"1\" class=\"dataframe\">\n",
       "  <thead>\n",
       "    <tr style=\"text-align: right;\">\n",
       "      <th></th>\n",
       "      <th>id</th>\n",
       "      <th>salary</th>\n",
       "    </tr>\n",
       "  </thead>\n",
       "  <tbody>\n",
       "    <tr>\n",
       "      <th>2</th>\n",
       "      <td>3</td>\n",
       "      <td>300</td>\n",
       "    </tr>\n",
       "    <tr>\n",
       "      <th>1</th>\n",
       "      <td>2</td>\n",
       "      <td>200</td>\n",
       "    </tr>\n",
       "    <tr>\n",
       "      <th>0</th>\n",
       "      <td>1</td>\n",
       "      <td>100</td>\n",
       "    </tr>\n",
       "  </tbody>\n",
       "</table>\n",
       "</div>"
      ],
      "text/plain": [
       "   id  salary\n",
       "2   3     300\n",
       "1   2     200\n",
       "0   1     100"
      ]
     },
     "execution_count": 11,
     "metadata": {},
     "output_type": "execute_result"
    }
   ],
   "source": [
    "data"
   ]
  },
  {
   "cell_type": "code",
   "execution_count": 12,
   "metadata": {},
   "outputs": [
    {
     "data": {
      "text/html": [
       "<div>\n",
       "<style scoped>\n",
       "    .dataframe tbody tr th:only-of-type {\n",
       "        vertical-align: middle;\n",
       "    }\n",
       "\n",
       "    .dataframe tbody tr th {\n",
       "        vertical-align: top;\n",
       "    }\n",
       "\n",
       "    .dataframe thead th {\n",
       "        text-align: right;\n",
       "    }\n",
       "</style>\n",
       "<table border=\"1\" class=\"dataframe\">\n",
       "  <thead>\n",
       "    <tr style=\"text-align: right;\">\n",
       "      <th></th>\n",
       "      <th>SecondHighestSalary</th>\n",
       "    </tr>\n",
       "  </thead>\n",
       "  <tbody>\n",
       "    <tr>\n",
       "      <th>1</th>\n",
       "      <td>200</td>\n",
       "    </tr>\n",
       "  </tbody>\n",
       "</table>\n",
       "</div>"
      ],
      "text/plain": [
       "   SecondHighestSalary\n",
       "1                  200"
      ]
     },
     "execution_count": 12,
     "metadata": {},
     "output_type": "execute_result"
    }
   ],
   "source": [
    "result"
   ]
  },
  {
   "cell_type": "markdown",
   "metadata": {},
   "source": [
    "# Nth Highest Salary\n"
   ]
  },
  {
   "cell_type": "code",
   "execution_count": 15,
   "metadata": {},
   "outputs": [],
   "source": [
    "def NthHighestSalary(employee: pd.DataFrame, N: int)->pd.DataFrame:\n",
    "     employee = employee.sort_values('salary', ascending= False).drop_duplicates(subset = ['salary'])\n",
    "     if N <= employee.shape[0] and N > 0:\n",
    "          employee[f\"getNthHighestSalary ({N})\"] = employee['salary'][N - 1 : N]\n",
    "          return (employee[[f\"getNthHighestSalary ({N})\"]].iloc[N - 1 : N])\n",
    "     \n",
    "     else:\n",
    "          employee[f\"getNthHighestSalary ({N})\"] = None\n",
    "          return (employee[[f\"getNthHighestSalary ({N})\"]].drop_duplicates(keep='first'))\n",
    "     \n",
    "def main()->pd.DataFrame:\n",
    "     employee = {'id':[1,2,3], 'salary':[100,200,300]}\n",
    "     ans = pd.DataFrame(employee)\n",
    "     return ans\n",
    "\n",
    "if __name__ == \"__main__\":\n",
    "     data = main()\n",
    "     N = 2\n",
    "     res = NthHighestSalary(data, N)\n",
    "     \n",
    "     "
   ]
  },
  {
   "cell_type": "code",
   "execution_count": 16,
   "metadata": {},
   "outputs": [
    {
     "data": {
      "text/html": [
       "<div>\n",
       "<style scoped>\n",
       "    .dataframe tbody tr th:only-of-type {\n",
       "        vertical-align: middle;\n",
       "    }\n",
       "\n",
       "    .dataframe tbody tr th {\n",
       "        vertical-align: top;\n",
       "    }\n",
       "\n",
       "    .dataframe thead th {\n",
       "        text-align: right;\n",
       "    }\n",
       "</style>\n",
       "<table border=\"1\" class=\"dataframe\">\n",
       "  <thead>\n",
       "    <tr style=\"text-align: right;\">\n",
       "      <th></th>\n",
       "      <th>getNthHighestSalary (2)</th>\n",
       "    </tr>\n",
       "  </thead>\n",
       "  <tbody>\n",
       "    <tr>\n",
       "      <th>1</th>\n",
       "      <td>200.0</td>\n",
       "    </tr>\n",
       "  </tbody>\n",
       "</table>\n",
       "</div>"
      ],
      "text/plain": [
       "   getNthHighestSalary (2)\n",
       "1                    200.0"
      ]
     },
     "execution_count": 16,
     "metadata": {},
     "output_type": "execute_result"
    }
   ],
   "source": [
    "res"
   ]
  },
  {
   "cell_type": "markdown",
   "metadata": {},
   "source": [
    "# Increase Transaction"
   ]
  },
  {
   "cell_type": "code",
   "execution_count": 19,
   "metadata": {},
   "outputs": [
    {
     "name": "stdout",
     "output_type": "stream",
     "text": [
      "  customer_id consecutive_start consecutive_end\n",
      "0           3        2024-01-01      2024-01-03\n"
     ]
    }
   ],
   "source": [
    "import pandas as pd\n",
    "import numpy as np\n",
    "\n",
    "def consecutive_increasing_transactions(transactions: pd.DataFrame) -> pd.DataFrame:\n",
    "\n",
    "    def define_stretches(df):\n",
    "        res = df.copy(deep=True)\n",
    "        res = res.sort_values(\"transaction_date\")\n",
    "        nrows = res.shape[0]\n",
    "        stretches = np.zeros(nrows, dtype=int)\n",
    "        amounts = res[\"amount\"].values\n",
    "        dates = res[\"transaction_date\"].values\n",
    "        for i in range(1, nrows):\n",
    "            stretches[i] = (\n",
    "                stretches[i - 1] \n",
    "                if (dates[i] - dates[i - 1] == np.timedelta64(1, \"D\")) and amounts[i] >= amounts[i - 1]\n",
    "                else stretches[i - 1] + 1\n",
    "            )\n",
    "        res[\"stretches\"] = stretches\n",
    "        return res\n",
    "\n",
    "    aux = (\n",
    "        transactions\n",
    "        .groupby(\"customer_id\", as_index=False)[[\"customer_id\", \"transaction_date\",\"amount\"]]\n",
    "        .apply(define_stretches)\n",
    "        .reset_index(drop=True)\n",
    "    )\n",
    "\n",
    "    def validate_stretch(df: pd.DataFrame) -> pd.DataFrame:\n",
    "        long_enough = df.shape[0] >= 3\n",
    "        if long_enough:\n",
    "            res = pd.DataFrame(\n",
    "                data={\n",
    "                    \"customer_id\": df[\"customer_id\"].values[0],\n",
    "                    \"consecutive_start\": df[\"transaction_date\"].values[0],\n",
    "                    \"consecutive_end\": df[\"transaction_date\"].values[-1]\n",
    "                },\n",
    "                index=[0]\n",
    "            )\n",
    "            return res\n",
    "        else:\n",
    "            return pd.DataFrame(columns=[\"customer_id\", \"consecutive_start\", \"consecutive_end\"])\n",
    "        \n",
    "    result = (\n",
    "        aux\n",
    "        .groupby([\"customer_id\", \"stretches\"])[[\"customer_id\", \"transaction_date\", \"amount\", \"stretches\"]]\n",
    "        .apply(validate_stretch)\n",
    "        .reset_index(drop=True)\n",
    "        .sort_values(by=\"customer_id\", ascending=True)\n",
    "    )\n",
    "\n",
    "    return result\n",
    "\n",
    "def main() -> pd.DataFrame:\n",
    "    # Example DataFrame for transactions\n",
    "    transactions = pd.DataFrame({\n",
    "        \"customer_id\": [1, 1, 1, 2, 2, 2, 3, 3, 3],\n",
    "        \"transaction_date\": pd.to_datetime([\"2024-01-01\", \"2024-01-02\", \"2024-01-05\", \n",
    "                                            \"2024-01-01\", \"2024-01-03\", \"2024-01-06\", \n",
    "                                            \"2024-01-01\", \"2024-01-02\", \"2024-01-03\"]),\n",
    "        \"amount\": [100, 110, 120, 200, 190, 180, 300, 310, 320]\n",
    "    })\n",
    "    \n",
    "    # Apply the function to find consecutive increasing transactions\n",
    "    result = consecutive_increasing_transactions(transactions)\n",
    "    return result\n",
    "\n",
    "if __name__ == \"__main__\":\n",
    "    data = main()\n",
    "    print(data)\n"
   ]
  },
  {
   "cell_type": "markdown",
   "metadata": {},
   "source": [
    "# ads Performance"
   ]
  },
  {
   "cell_type": "code",
   "execution_count": 21,
   "metadata": {},
   "outputs": [],
   "source": [
    "import pandas as pd\n",
    "\n",
    "def ads_performance(ads: pd.DataFrame) -> pd.DataFrame:\n",
    "\n",
    "    def compute_ctr(df):\n",
    "        nb_clicks = (df[\"action\"] == \"Clicked\").sum()\n",
    "        nb_views = (df[\"action\"] == \"Viewed\").sum()\n",
    "        if nb_clicks + nb_views == 0:\n",
    "            return 0\n",
    "        else:\n",
    "            return round(100 * nb_clicks / (nb_clicks + nb_views), 2)\n",
    "\n",
    "    ts = ads.groupby(by=\"ad_id\").apply(compute_ctr)\n",
    "    ts.name = \"ctr\"\n",
    "\n",
    "    res = ts.reset_index().sort_values(by=[\"ctr\", \"ad_id\"], ascending=[False, True])\n",
    "\n",
    "    return res\n",
    "\n",
    "def main() -> pd.DataFrame:\n",
    "    # Example DataFrame for ads\n",
    "    ads = pd.DataFrame({\n",
    "        \"ad_id\": [1, 1, 2, 2, 3],\n",
    "        \"action\": [\"Viewed\", \"Clicked\", \"Viewed\", \"Viewed\", \"Clicked\"]\n",
    "    })\n",
    "\n",
    "    # Apply the function to compute ad performance\n",
    "    result = ads_performance(ads)\n",
    "    return result\n",
    "\n",
    "if __name__ == \"__main__\":\n",
    "    data = main()\n",
    "    \n"
   ]
  },
  {
   "cell_type": "code",
   "execution_count": 22,
   "metadata": {},
   "outputs": [
    {
     "data": {
      "text/html": [
       "<div>\n",
       "<style scoped>\n",
       "    .dataframe tbody tr th:only-of-type {\n",
       "        vertical-align: middle;\n",
       "    }\n",
       "\n",
       "    .dataframe tbody tr th {\n",
       "        vertical-align: top;\n",
       "    }\n",
       "\n",
       "    .dataframe thead th {\n",
       "        text-align: right;\n",
       "    }\n",
       "</style>\n",
       "<table border=\"1\" class=\"dataframe\">\n",
       "  <thead>\n",
       "    <tr style=\"text-align: right;\">\n",
       "      <th></th>\n",
       "      <th>ad_id</th>\n",
       "      <th>ctr</th>\n",
       "    </tr>\n",
       "  </thead>\n",
       "  <tbody>\n",
       "    <tr>\n",
       "      <th>2</th>\n",
       "      <td>3</td>\n",
       "      <td>100.0</td>\n",
       "    </tr>\n",
       "    <tr>\n",
       "      <th>0</th>\n",
       "      <td>1</td>\n",
       "      <td>50.0</td>\n",
       "    </tr>\n",
       "    <tr>\n",
       "      <th>1</th>\n",
       "      <td>2</td>\n",
       "      <td>0.0</td>\n",
       "    </tr>\n",
       "  </tbody>\n",
       "</table>\n",
       "</div>"
      ],
      "text/plain": [
       "   ad_id    ctr\n",
       "2      3  100.0\n",
       "0      1   50.0\n",
       "1      2    0.0"
      ]
     },
     "execution_count": 22,
     "metadata": {},
     "output_type": "execute_result"
    }
   ],
   "source": [
    "data"
   ]
  },
  {
   "cell_type": "markdown",
   "metadata": {},
   "source": [
    "# Diabatic patients"
   ]
  },
  {
   "cell_type": "code",
   "execution_count": 3,
   "metadata": {},
   "outputs": [],
   "source": [
    "import pandas as pd\n",
    "def Find_Patients(patients : pd.DataFrame)->pd.DataFrame:\n",
    "     patients_condition = patients[patients['conditions'].str.contains(r'\\DIAB1')]\n",
    "     df = patients_condition[['patient_id', 'patient_name', 'conditions']]\n",
    "     return df\n",
    "\n",
    "def main()->pd.DataFrame:\n",
    "     patients = {'patient_id' : [1, 2, 3, 4, 5],\n",
    "                 'patient_name' : ['Daniel', 'Alice', 'Bob', 'George', 'Alain'],\n",
    "                 'conditions' : ['YFEV COUGH','', 'DIAB100 MYOP', 'ACNE DIAB100', 'DIAB201'] }\n",
    "     ans = pd.DataFrame(patients)\n",
    "     res = Find_Patients(ans)\n",
    "     return res\n",
    "\n",
    "if __name__ == \"__main__\":\n",
    "     data = main()\n",
    "     "
   ]
  },
  {
   "cell_type": "code",
   "execution_count": 4,
   "metadata": {},
   "outputs": [
    {
     "data": {
      "text/html": [
       "<div>\n",
       "<style scoped>\n",
       "    .dataframe tbody tr th:only-of-type {\n",
       "        vertical-align: middle;\n",
       "    }\n",
       "\n",
       "    .dataframe tbody tr th {\n",
       "        vertical-align: top;\n",
       "    }\n",
       "\n",
       "    .dataframe thead th {\n",
       "        text-align: right;\n",
       "    }\n",
       "</style>\n",
       "<table border=\"1\" class=\"dataframe\">\n",
       "  <thead>\n",
       "    <tr style=\"text-align: right;\">\n",
       "      <th></th>\n",
       "      <th>patient_id</th>\n",
       "      <th>patient_name</th>\n",
       "      <th>conditions</th>\n",
       "    </tr>\n",
       "  </thead>\n",
       "  <tbody>\n",
       "    <tr>\n",
       "      <th>2</th>\n",
       "      <td>3</td>\n",
       "      <td>Bob</td>\n",
       "      <td>DIAB100 MYOP</td>\n",
       "    </tr>\n",
       "    <tr>\n",
       "      <th>3</th>\n",
       "      <td>4</td>\n",
       "      <td>George</td>\n",
       "      <td>ACNE DIAB100</td>\n",
       "    </tr>\n",
       "  </tbody>\n",
       "</table>\n",
       "</div>"
      ],
      "text/plain": [
       "   patient_id patient_name    conditions\n",
       "2           3          Bob  DIAB100 MYOP\n",
       "3           4       George  ACNE DIAB100"
      ]
     },
     "execution_count": 4,
     "metadata": {},
     "output_type": "execute_result"
    }
   ],
   "source": [
    "data"
   ]
  },
  {
   "cell_type": "markdown",
   "metadata": {},
   "source": [
    "# Valid Emails"
   ]
  },
  {
   "cell_type": "code",
   "execution_count": 6,
   "metadata": {},
   "outputs": [
    {
     "name": "stdout",
     "output_type": "stream",
     "text": [
      "   user_id       name                    mails\n",
      "0        1    Winston     winston@leetcode.com\n",
      "2        3  Annabelle      bella-@leetcode.com\n",
      "3        4      Sally  sally.come@leetcode.com\n"
     ]
    }
   ],
   "source": [
    "import pandas as pd\n",
    "def valid_emails(users: pd.DataFrame)->pd.DataFrame:\n",
    "     valid_mails = users[users['mails'].str.match(r'^[A-Za-z][A-Za-z0-9_\\.\\-]*@leetcode(\\?com)?\\.com')]\n",
    "     return valid_mails\n",
    "\n",
    "def main()->pd.DataFrame:\n",
    "     table = {'user_id' : [1, 2, 3, 4, 5, 6, 7],\n",
    "              'name' : ['Winston', 'Jonathan', 'Annabelle', 'Sally', 'Marwan', 'David', 'Shapiro'],\n",
    "              'mails' : ['winston@leetcode.com', 'jonathanisgreat',\n",
    "                        'bella-@leetcode.com', 'sally.come@leetcode.com',\n",
    "                        'quarz#2020@leetcode.com', 'david69@gmail.com', '.shapo@leetcode.com']}\n",
    "     Ans = pd.DataFrame(table)\n",
    "     data = valid_emails(Ans)\n",
    "     return data\n",
    "\n",
    "if __name__ == \"__main__\":\n",
    "     dataset = main()\n",
    "     print(dataset)"
   ]
  },
  {
   "cell_type": "markdown",
   "metadata": {},
   "source": [
    "# Fix Name"
   ]
  },
  {
   "cell_type": "code",
   "execution_count": 7,
   "metadata": {},
   "outputs": [
    {
     "name": "stdout",
     "output_type": "stream",
     "text": [
      "   user_id   name\n",
      "0        1  Alice\n",
      "1        2    Bob\n"
     ]
    }
   ],
   "source": [
    "def fix_name(users : pd.DataFrame) -> pd.DataFrame:\n",
    "     users['name'] = users['name'].str.capitalize()\n",
    "     return users.sort_values(by = 'name')\n",
    "\n",
    "def main()->pd.DataFrame:\n",
    "     table = {'user_id' : [1, 2], 'name' : ['aLice', 'bOB']}\n",
    "     ans = pd.DataFrame(table)\n",
    "     res = fix_name(ans)\n",
    "     return res\n",
    "\n",
    "if __name__ == \"__main__\":\n",
    "     data = main()\n",
    "     print(data)"
   ]
  },
  {
   "cell_type": "markdown",
   "metadata": {},
   "source": [
    "# Calculate Special Bonus"
   ]
  },
  {
   "cell_type": "code",
   "execution_count": 2,
   "metadata": {},
   "outputs": [
    {
     "name": "stdout",
     "output_type": "stream",
     "text": [
      "   employees_id  Bonus\n",
      "0             2      0\n",
      "1             3      0\n",
      "2             7   7400\n",
      "3             8      0\n",
      "4             9   7700\n"
     ]
    }
   ],
   "source": [
    "import pandas as pd\n",
    "def Bonus(employees:pd.DataFrame)->pd.DataFrame:\n",
    "     employees['Bonus'] = 0\n",
    "     employees.loc[(employees['employees_id'] % 2 != 0) & (~employees['name'].str.startswith('M')), 'Bonus'] = employees['salary']\n",
    "     return employees[['employees_id', 'Bonus']].sort_values(by= 'employees_id', ascending= True)\n",
    "\n",
    "\n",
    "def main()->pd.DataFrame:\n",
    "     employees = {'employees_id' : [2, 3, 7, 8, 9],\n",
    "                  'name' : [\"Meir\", 'Micheals', 'Addilyn', 'Juan', 'Kannon'],\n",
    "                  'salary' : [3000, 3800, 7400, 6100, 7700]}\n",
    "     ans = pd.DataFrame(employees)\n",
    "     res = Bonus(ans)\n",
    "     return res\n",
    "\n",
    "if __name__ == \"__main__\":\n",
    "     data = main()\n",
    "     print(data)     "
   ]
  },
  {
   "cell_type": "markdown",
   "metadata": {},
   "source": [
    "# Invalid tweets"
   ]
  },
  {
   "cell_type": "code",
   "execution_count": 2,
   "metadata": {},
   "outputs": [
    {
     "name": "stdout",
     "output_type": "stream",
     "text": [
      "   tweet_id\n",
      "1         2\n"
     ]
    }
   ],
   "source": [
    "import pandas as pd\n",
    "def invalid_tweets(tweets: pd.DataFrame)->pd.DataFrame:\n",
    "     new_df = tweets[tweets['content'].str.len() > 15]\n",
    "     result = new_df[['tweet_id']]\n",
    "     return result\n",
    "\n",
    "def main()->pd.DataFrame:\n",
    "     tweets = {'tweet_id' : [1,2],\n",
    "               'content' : ['vote for Biden', 'Let us make America great again!']}\n",
    "     ans = pd.DataFrame(tweets)\n",
    "     res = invalid_tweets(ans)\n",
    "     return res\n",
    "\n",
    "if __name__ == \"__main__\":\n",
    "     data = main()\n",
    "     print(data)"
   ]
  },
  {
   "cell_type": "code",
   "execution_count": null,
   "metadata": {},
   "outputs": [],
   "source": []
  }
 ],
 "metadata": {
  "kernelspec": {
   "display_name": "Python 3",
   "language": "python",
   "name": "python3"
  },
  "language_info": {
   "codemirror_mode": {
    "name": "ipython",
    "version": 3
   },
   "file_extension": ".py",
   "mimetype": "text/x-python",
   "name": "python",
   "nbconvert_exporter": "python",
   "pygments_lexer": "ipython3",
   "version": "3.10.8"
  }
 },
 "nbformat": 4,
 "nbformat_minor": 2
}
